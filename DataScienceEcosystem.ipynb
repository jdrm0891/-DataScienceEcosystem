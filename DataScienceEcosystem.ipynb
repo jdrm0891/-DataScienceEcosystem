{
 "cells": [
  {
   "cell_type": "markdown",
   "id": "e7205e4f-2dd4-4733-8ec2-2ef640f6c207",
   "metadata": {},
   "source": [
    "Data Science Tools and Ecosystem"
   ]
  },
  {
   "cell_type": "markdown",
   "id": "b12423d5-0c88-4e68-b721-82355088f804",
   "metadata": {},
   "source": [
    "In this notebook, Data Science Tools and Ecosystem are summarized."
   ]
  },
  {
   "cell_type": "markdown",
   "id": "88b128aa-bad6-4568-9669-c145c0baf521",
   "metadata": {},
   "source": [
    "**Objectives**\n",
    "\n",
    "- List popular languages for Data Science\n",
    "- arithmetic expressions\n",
    "- List popular Libraries for Data Science"
   ]
  },
  {
   "cell_type": "markdown",
   "id": "49d64382-fff3-419c-8402-da7f99861559",
   "metadata": {},
   "source": [
    "Some of the popular languages that Data Scientists use are: \n",
    "\n",
    "- Python\n",
    "- Java\n",
    "- Scala"
   ]
  },
  {
   "cell_type": "markdown",
   "id": "2b2c063e-edb0-425b-ba26-9c1abe235c8a",
   "metadata": {},
   "source": [
    "Some of the commonly used libraries used by Data Scientists include: \n",
    "\n",
    "- Pandas\n",
    "- NumPy\n",
    "- scikit-learn"
   ]
  },
  {
   "cell_type": "markdown",
   "id": "b92fee13-90cb-4eb2-8580-3e2a6645c6a0",
   "metadata": {},
   "source": [
    "Data Science Tools: \n",
    "\n",
    "- Jupyter Notebook\n",
    "- R Studio\n",
    "- Py Charm\n",
    "- Spyder\n",
    "- Orange\n",
    "- VS Code"
   ]
  },
  {
   "cell_type": "markdown",
   "id": "7cc112db-e74b-47e5-9716-ffefbeaeef1f",
   "metadata": {},
   "source": [
    "# Below are a few examples of evaluating arithmetic expressions in Python\n",
    "\n",
    "#Suma\n",
    "\n",
    "suma = 5 + 7\n",
    "print (\"El resultado es: \",suma)\n",
    "\n",
    "#Resta\n",
    "\n",
    "resta = 8 - 7\n",
    "print (\"El resultado es: \",resta)\n",
    "\n",
    "#Multiplicacion\n",
    "\n",
    "multiplicacion = 5 * 7\n",
    "print (\"El resultado es: \",multiplicacion)\n",
    "\n",
    "#Division\n",
    "\n",
    "division = 10 / 7\n",
    "print (\"El resultado es: \",division)"
   ]
  },
  {
   "cell_type": "code",
   "execution_count": 1,
   "id": "da35f9e5-08a8-4361-ad71-8b54d6504374",
   "metadata": {
    "tags": []
   },
   "outputs": [
    {
     "name": "stdout",
     "output_type": "stream",
     "text": [
      "El resultado es:  17\n"
     ]
    }
   ],
   "source": [
    "# This a simple arithmetic expression to mutiply then add integers\n",
    "\n",
    "#Operacion\n",
    "\n",
    "resultado = (3*4)+5\n",
    "print (\"El resultado es: \",resultado)"
   ]
  },
  {
   "cell_type": "code",
   "execution_count": 2,
   "id": "ded090af-9308-4c71-9f27-6f8110a8e0cf",
   "metadata": {
    "tags": []
   },
   "outputs": [
    {
     "name": "stdout",
     "output_type": "stream",
     "text": [
      "La cantidad de horas es:  3.3333333333333335\n"
     ]
    }
   ],
   "source": [
    "# This will convert 200 minutes to hours by diving by 60\n",
    "\n",
    "minutos = 200\n",
    "horas = minutos / 60\n",
    "print (\"La cantidad de horas es: \",horas)"
   ]
  },
  {
   "cell_type": "markdown",
   "id": "e0185592-4f5e-4f75-a68d-121b9d4f2116",
   "metadata": {},
   "source": [
    "##Author\n",
    "\n",
    "Juan David Restrepo"
   ]
  },
  {
   "cell_type": "code",
   "execution_count": null,
   "id": "640cabc6-dcf5-4e82-b2ab-4893e42d2197",
   "metadata": {},
   "outputs": [],
   "source": []
  }
 ],
 "metadata": {
  "kernelspec": {
   "display_name": "Python",
   "language": "python",
   "name": "conda-env-python-py"
  },
  "language_info": {
   "codemirror_mode": {
    "name": "ipython",
    "version": 3
   },
   "file_extension": ".py",
   "mimetype": "text/x-python",
   "name": "python",
   "nbconvert_exporter": "python",
   "pygments_lexer": "ipython3",
   "version": "3.7.12"
  }
 },
 "nbformat": 4,
 "nbformat_minor": 5
}
